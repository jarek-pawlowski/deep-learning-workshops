{
  "cells": [
    {
      "cell_type": "markdown",
      "metadata": {
        "id": "view-in-github",
        "colab_type": "text"
      },
      "source": [
        "<a href=\"https://colab.research.google.com/github/jarek-pawlowski/machine-learning-applications/blob/main/GAN_on_MNIST.ipynb\" target=\"_parent\"><img src=\"https://colab.research.google.com/assets/colab-badge.svg\" alt=\"Open In Colab\"/></a>"
      ]
    },
    {
      "cell_type": "markdown",
      "metadata": {
        "id": "BredVsAxhjoz"
      },
      "source": [
        "# Deep convolutional generative adversarial network (GAN)\n",
        "#### for generating MNIST-like images of handwritten digits\n"
      ]
    },
    {
      "cell_type": "markdown",
      "metadata": {
        "id": "AsDMQq10yHkG"
      },
      "source": [
        "Before we start we need to load libraries and setup the model hyperparameters"
      ]
    },
    {
      "cell_type": "code",
      "execution_count": 1,
      "metadata": {
        "id": "grvT221cyShc"
      },
      "outputs": [],
      "source": [
        "import torch\n",
        "import torch.nn as nn\n",
        "import torch.nn.functional as F\n",
        "import torch.optim as optim\n",
        "from torchvision import datasets, transforms\n",
        "\n",
        "import numpy as np\n",
        "\n",
        "import matplotlib.pyplot as plt\n",
        "plt.rcParams.update({'font.size': 14})\n",
        "\n",
        "model_args = {}\n",
        "# random seed\n",
        "model_args['seed'] = 123\n",
        "# we will use batch size of 128 in Stochastic Gradient Descent (SGD) optimization of the network\n",
        "model_args['batch_size'] = 128 \n",
        "# learning rate is how fast it will descend\n",
        "model_args['lr'] = 2.e-4\n",
        "# the number of epochs is the number of times you go through the full dataset \n",
        "model_args['epochs'] = 50\n",
        "# GAN parameters:\n",
        "model_args['latent_space_dim'] = 100"
      ]
    },
    {
      "cell_type": "markdown",
      "metadata": {
        "id": "FMMMbtzvpYgR"
      },
      "source": [
        "Let's start with loading the dataset and definig dataloaders"
      ]
    },
    {
      "cell_type": "code",
      "execution_count": 2,
      "metadata": {
        "colab": {
          "base_uri": "https://localhost:8080/",
          "height": 431,
          "referenced_widgets": [
            "db45e7e6258644b8b7bca93c69830e0b",
            "a75d78004576433f80e52288b42d6b0d",
            "29b8a21cc4ca498d94d4d23dc84e5dc8",
            "a6704af3a28c4af5a43d0015611a8d56",
            "ab5b8736cfbe48f8b8ebf8f0365379b2",
            "9afc6ac40d994015a63fbccca35cae7e",
            "929c56df0dd74dcdb4ca2495cbd2f193",
            "bae931a0e90142d9a05a610ce12d21cc",
            "fdcb99decb464df5a789c6c24820d433",
            "2f4107ba1a504605b8851c4b32484f4e",
            "740a630a6584417a909162368470932f",
            "acb5af559b1a4df19d7ba831d531736a",
            "814ad91201c94b1c8fae8b49ea751841",
            "b5aee52fcf764b29a425ea90ad64a74c",
            "69584d6aa7034aa9b5dbfa7d58e24fd9",
            "99aab35f6b8644d1a8460122006954c3",
            "667347df9efa484fbd386a67da9a7ca7",
            "6b7d5a9438d34c61b60c63b859c06df1",
            "bd522b0d4d5a4e8880eebee99325f58d",
            "29d257e0aaf84bf1b55cbef111e45cec",
            "a03a2416a66b47068cb4b4e7c17cb1ff",
            "1b3c8813fa6f47e3b889e6a4e244a5ea",
            "d44a7ea9a3f342158ca4f530dd61bec4",
            "f77f570257a24de394094bc85c470b9a",
            "87598b627fb2495597117a1c03046c90",
            "b1296fd980b8437f9499c8cf27f3c0aa",
            "bde325330d504db983adf4ec9f74cee6",
            "a1bb51e1236645238e62eddd566c2a3a",
            "edabe39073b24db2bf7bd081a5bfa33d",
            "d7bade77105f4903b338fb10954b5900",
            "382a0e7129544c8eb01298112f0efd15",
            "64bb27c772c24efdb2a63405f5b23b17",
            "ebf30e77f20f4fc7a24183df1a55bccf",
            "6f117b04a12e4bbd832dc75245b8f36f",
            "4dd2b99c4c644effa1d5454770b5165e",
            "c11b7f2bc99842fcb87e7ee4fc18baf7",
            "55230bff97594ca7a0a71378d7553221",
            "36a7c4e4a03e44f8b8df34aeb0c0d074",
            "95193f3b2a004ca889aa4c0b0e43db2f",
            "e79bb2d4a1ac481c82465c86588fcbee",
            "df88941ae6c446e89aa4ae539c740052",
            "a49d516f731642fdbe38b152d3d32f7e",
            "5e5bb51830eb4978a3ef5223e8f18943",
            "2d250bc485ff4ed98b211c2000e5cede"
          ]
        },
        "id": "_4mwzWUvpmLq",
        "outputId": "765a7714-bc71-4ee8-b3b0-ea91f9dd088b"
      },
      "outputs": [
        {
          "output_type": "stream",
          "name": "stdout",
          "text": [
            "Downloading http://yann.lecun.com/exdb/mnist/train-images-idx3-ubyte.gz\n",
            "Downloading http://yann.lecun.com/exdb/mnist/train-images-idx3-ubyte.gz to ../data/MNIST/raw/train-images-idx3-ubyte.gz\n"
          ]
        },
        {
          "output_type": "display_data",
          "data": {
            "text/plain": [
              "  0%|          | 0/9912422 [00:00<?, ?it/s]"
            ],
            "application/vnd.jupyter.widget-view+json": {
              "version_major": 2,
              "version_minor": 0,
              "model_id": "db45e7e6258644b8b7bca93c69830e0b"
            }
          },
          "metadata": {}
        },
        {
          "output_type": "stream",
          "name": "stdout",
          "text": [
            "Extracting ../data/MNIST/raw/train-images-idx3-ubyte.gz to ../data/MNIST/raw\n",
            "\n",
            "Downloading http://yann.lecun.com/exdb/mnist/train-labels-idx1-ubyte.gz\n",
            "Downloading http://yann.lecun.com/exdb/mnist/train-labels-idx1-ubyte.gz to ../data/MNIST/raw/train-labels-idx1-ubyte.gz\n"
          ]
        },
        {
          "output_type": "display_data",
          "data": {
            "text/plain": [
              "  0%|          | 0/28881 [00:00<?, ?it/s]"
            ],
            "application/vnd.jupyter.widget-view+json": {
              "version_major": 2,
              "version_minor": 0,
              "model_id": "acb5af559b1a4df19d7ba831d531736a"
            }
          },
          "metadata": {}
        },
        {
          "output_type": "stream",
          "name": "stdout",
          "text": [
            "Extracting ../data/MNIST/raw/train-labels-idx1-ubyte.gz to ../data/MNIST/raw\n",
            "\n",
            "Downloading http://yann.lecun.com/exdb/mnist/t10k-images-idx3-ubyte.gz\n",
            "Downloading http://yann.lecun.com/exdb/mnist/t10k-images-idx3-ubyte.gz to ../data/MNIST/raw/t10k-images-idx3-ubyte.gz\n"
          ]
        },
        {
          "output_type": "display_data",
          "data": {
            "text/plain": [
              "  0%|          | 0/1648877 [00:00<?, ?it/s]"
            ],
            "application/vnd.jupyter.widget-view+json": {
              "version_major": 2,
              "version_minor": 0,
              "model_id": "d44a7ea9a3f342158ca4f530dd61bec4"
            }
          },
          "metadata": {}
        },
        {
          "output_type": "stream",
          "name": "stdout",
          "text": [
            "Extracting ../data/MNIST/raw/t10k-images-idx3-ubyte.gz to ../data/MNIST/raw\n",
            "\n",
            "Downloading http://yann.lecun.com/exdb/mnist/t10k-labels-idx1-ubyte.gz\n",
            "Downloading http://yann.lecun.com/exdb/mnist/t10k-labels-idx1-ubyte.gz to ../data/MNIST/raw/t10k-labels-idx1-ubyte.gz\n"
          ]
        },
        {
          "output_type": "display_data",
          "data": {
            "text/plain": [
              "  0%|          | 0/4542 [00:00<?, ?it/s]"
            ],
            "application/vnd.jupyter.widget-view+json": {
              "version_major": 2,
              "version_minor": 0,
              "model_id": "6f117b04a12e4bbd832dc75245b8f36f"
            }
          },
          "metadata": {}
        },
        {
          "output_type": "stream",
          "name": "stdout",
          "text": [
            "Extracting ../data/MNIST/raw/t10k-labels-idx1-ubyte.gz to ../data/MNIST/raw\n",
            "\n"
          ]
        }
      ],
      "source": [
        "# load the MINST dataset via torchvision \n",
        "transform = transforms.ToTensor()\n",
        "train_subset = datasets.MNIST('../data', train=True, download=True, transform=transform)"
      ]
    },
    {
      "cell_type": "code",
      "execution_count": 3,
      "metadata": {
        "id": "95AlyL9H9-xQ"
      },
      "outputs": [],
      "source": [
        "# define dataloaders\n",
        "loader_kwargs = {'batch_size': model_args['batch_size'], \n",
        "                 'num_workers': 2, \n",
        "                 'pin_memory': True, \n",
        "                 'shuffle': True}\n",
        "train_loader = torch.utils.data.DataLoader(train_subset, **loader_kwargs)"
      ]
    },
    {
      "cell_type": "markdown",
      "metadata": {
        "id": "94zFPJ48UEi1"
      },
      "source": [
        "Plot sample images"
      ]
    },
    {
      "cell_type": "code",
      "execution_count": 4,
      "metadata": {
        "colab": {
          "base_uri": "https://localhost:8080/",
          "height": 513
        },
        "id": "2Bhqwulj1nfy",
        "outputId": "a54d19d4-9029-46b0-ecd5-15a59ef690a4"
      },
      "outputs": [
        {
          "output_type": "display_data",
          "data": {
            "text/plain": [
              "<Figure size 504x504 with 25 Axes>"
            ],
            "image/png": "[encoded data removed]"
          },
          "metadata": {
            "needs_background": "light"
          }
        }
      ],
      "source": [
        "example_number = 123\n",
        "fig, axs = plt.subplots(5, 5, figsize=(7,7), tight_layout=True)\n",
        "for i in range(5):\n",
        "    for j in range(5):\n",
        "        axs[i,j].imshow(train_subset[example_number+i*5+j][0].reshape(28,28), cmap='gray')\n",
        "        axs[i,j].set_title(train_subset[example_number+i*5+j][1])"
      ]
    },
    {
      "cell_type": "markdown",
      "metadata": {
        "id": "HBkkgV5G7Bvb"
      },
      "source": [
        "Let's now construct a GAN model:\n",
        "- we are using **nn.Sequential** to define the generator and discriminator models,\n",
        "- generator utilizes *2D transposed convolutions* to size up feature maps in decoder."
      ]
    },
    {
      "cell_type": "code",
      "execution_count": 5,
      "metadata": {
        "id": "6W19lU8aLvuG"
      },
      "outputs": [],
      "source": [
        "class Flatten(nn.Module):\n",
        "    def forward(self, input):\n",
        "        return input.view(input.size(0), -1)\n",
        "    \n",
        "class Reshape(nn.Module):\n",
        "    def forward(self, input):\n",
        "        return input.view(input.size(0), 64, 7, 7)\n",
        "\n",
        "class GAN(nn.Module):\n",
        "    # this defines the generator and discriminator structures\n",
        "    def __init__(self, latent_space_dim):\n",
        "        super(GAN, self).__init__()\n",
        "        self.latent_space_dim = latent_space_dim\n",
        "        \n",
        "        self.generator = nn.Sequential(\n",
        "              \n",
        "            nn.Linear(self.latent_space_dim, 3136, bias=False),\n",
        "            nn.BatchNorm1d(num_features=3136),\n",
        "            nn.LeakyReLU(inplace=True, negative_slope=0.0001),\n",
        "            Reshape(),\n",
        "            \n",
        "            nn.ConvTranspose2d(in_channels=64, out_channels=32, kernel_size=(3, 3), stride=(2, 2), padding=1, bias=False),\n",
        "            nn.BatchNorm2d(num_features=32),\n",
        "            nn.LeakyReLU(inplace=True, negative_slope=0.0001),\n",
        "            #nn.Dropout2d(p=0.2),\n",
        "            \n",
        "            nn.ConvTranspose2d(in_channels=32, out_channels=16, kernel_size=(3, 3), stride=(2, 2), padding=1, bias=False),\n",
        "            nn.BatchNorm2d(num_features=16),\n",
        "            nn.LeakyReLU(inplace=True, negative_slope=0.0001),\n",
        "            #nn.Dropout2d(p=0.2),\n",
        "            \n",
        "            nn.ConvTranspose2d(in_channels=16, out_channels=8, kernel_size=(3, 3), stride=(1, 1), padding=0, bias=False),\n",
        "            nn.BatchNorm2d(num_features=8),\n",
        "            nn.LeakyReLU(inplace=True, negative_slope=0.0001),\n",
        "            #nn.Dropout2d(p=0.2),\n",
        "            \n",
        "            nn.ConvTranspose2d(in_channels=8, out_channels=1, kernel_size=(2, 2), stride=(1, 1), padding=0, bias=False),\n",
        "            nn.Tanh()\n",
        "        )\n",
        "        \n",
        "        self.discriminator = nn.Sequential(\n",
        "            nn.Conv2d(in_channels=1, out_channels=8, padding=1, kernel_size=(3, 3), stride=(2, 2), bias=False),\n",
        "            nn.BatchNorm2d(num_features=8),\n",
        "            nn.LeakyReLU(inplace=True, negative_slope=0.0001), \n",
        "            #nn.Dropout2d(p=0.2),\n",
        "            \n",
        "            nn.Conv2d(in_channels=8, out_channels=32, padding=1, kernel_size=(3, 3), stride=(2, 2), bias=False),\n",
        "            nn.BatchNorm2d(num_features=32),\n",
        "            nn.LeakyReLU(inplace=True, negative_slope=0.0001), \n",
        "            #nn.Dropout2d(p=0.2),\n",
        "            \n",
        "            Flatten(),\n",
        "\n",
        "            nn.Linear(7*7*32, 1),\n",
        "            #nn.Sigmoid()\n",
        "        )\n",
        "\n",
        "    def generator_forward(self, z):\n",
        "        return self.generator(z)\n",
        "    \n",
        "    def discriminator_forward(self, img):\n",
        "        return self.discriminator(img).view(-1)\n"
      ]
    },
    {
      "cell_type": "markdown",
      "metadata": {
        "id": "zi-uXgK23kd0"
      },
      "source": [
        "And define training and plotting utils:"
      ]
    },
    {
      "cell_type": "code",
      "execution_count": 11,
      "metadata": {
        "id": "1PzkUhvA3dg3"
      },
      "outputs": [],
      "source": [
        "def train(model, device, train_loader, optimizer_gen, optimizer_dis, epoch_number):\n",
        "    model.train()\n",
        "    gen_losses = []\n",
        "    dis_losses = []\n",
        "    # get subsequent batches over the data in a given epoch\n",
        "    for batch_idx, (data, _) in enumerate(train_loader):\n",
        "        # normalize images to [-1, 1] range\n",
        "        data = data*2. - 1.\n",
        "        batch_size = data.size(0)\n",
        "        # send data tensors to GPU (or CPU)\n",
        "        data = data.to(device)\n",
        "        # labels for training discriminator\n",
        "        valid = torch.ones(batch_size).float().to(device)\n",
        "        fake = torch.zeros(batch_size).float().to(device)\n",
        "        # --------------------------\n",
        "        # Train Generator\n",
        "        # --------------------------\n",
        "        # this will zero out the gradients for this batch\n",
        "        optimizer_gen.zero_grad()\n",
        "        # generate new images from noise\n",
        "        z = torch.zeros((batch_size, model_args['latent_space_dim'])).uniform_(-1.0, 1.0).to(device)\n",
        "        generated_images = model.generator_forward(z)   \n",
        "        # loss for fooling the discriminator\n",
        "        dis_predictions = model.discriminator_forward(generated_images.view(batch_size, 1, 28, 28))\n",
        "        #\n",
        "        gen_loss = F.binary_cross_entropy_with_logits(dis_predictions, valid) # not fooling D increases G loss\n",
        "        gen_loss.backward()\n",
        "        optimizer_gen.step()\n",
        "        gen_losses.append(gen_loss.item())\n",
        "        # --------------------------\n",
        "        # Train Discriminator\n",
        "        # --------------------------        \n",
        "        # this will zero out the gradients for this batch\n",
        "        optimizer_dis.zero_grad()\n",
        "        # D predictions for real images\n",
        "        dis_predictions_real = model.discriminator_forward(data.view(batch_size, 1, 28, 28))\n",
        "        real_loss = F.binary_cross_entropy_with_logits(dis_predictions_real, valid) # D should classify real as valid\n",
        "        # D predictions for generated images\n",
        "        dis_predictions_fake = model.discriminator_forward(generated_images.view(batch_size, 1, 28, 28).detach())\n",
        "        fake_loss = F.binary_cross_entropy_with_logits(dis_predictions_fake, fake) # D should classify generated as fake\n",
        "        # \n",
        "        dis_loss = 0.5*(real_loss + fake_loss)\n",
        "        dis_loss.backward()\n",
        "        optimizer_dis.step()        \n",
        "        dis_losses.append(dis_loss.item())\n",
        "\n",
        "    return gen_losses, dis_losses\n",
        "\n",
        "\n",
        "def plot_loss(gen_loss, dis_loss, title=None):\n",
        "    plt.grid(True)\n",
        "    plt.xlabel(\"subsequent epochs\")\n",
        "    plt.ylabel('loss')\n",
        "    xlabels = np.linspace(0, model_args['epochs'], num=len(gen_loss), endpoint=True)\n",
        "    plt.plot(xlabels, gen_loss, label='generator')\n",
        "    plt.plot(xlabels, dis_loss, label='discriminator')\n",
        "    plt.legend()\n",
        "    if title is not None: plt.title(title)\n",
        "    plt.show()"
      ]
    },
    {
      "cell_type": "markdown",
      "metadata": {
        "id": "oUMFAqUys5b0"
      },
      "source": [
        "## Experiments"
      ]
    },
    {
      "cell_type": "markdown",
      "metadata": {
        "id": "-RGz9VLZYu5k"
      },
      "source": [
        "Let's define and plot the model"
      ]
    },
    {
      "cell_type": "code",
      "execution_count": 7,
      "metadata": {
        "colab": {
          "base_uri": "https://localhost:8080/"
        },
        "id": "BzzZ2T5FmqYe",
        "outputId": "aec2ffe0-c2e0-4cc6-ce34-084b40389a1b"
      },
      "outputs": [
        {
          "output_type": "stream",
          "name": "stdout",
          "text": [
            "GAN(\n",
            "  (generator): Sequential(\n",
            "    (0): Linear(in_features=100, out_features=3136, bias=False)\n",
            "    (1): BatchNorm1d(3136, eps=1e-05, momentum=0.1, affine=True, track_running_stats=True)\n",
            "    (2): LeakyReLU(negative_slope=0.0001, inplace=True)\n",
            "    (3): Reshape()\n",
            "    (4): ConvTranspose2d(64, 32, kernel_size=(3, 3), stride=(2, 2), padding=(1, 1), bias=False)\n",
            "    (5): BatchNorm2d(32, eps=1e-05, momentum=0.1, affine=True, track_running_stats=True)\n",
            "    (6): LeakyReLU(negative_slope=0.0001, inplace=True)\n",
            "    (7): ConvTranspose2d(32, 16, kernel_size=(3, 3), stride=(2, 2), padding=(1, 1), bias=False)\n",
            "    (8): BatchNorm2d(16, eps=1e-05, momentum=0.1, affine=True, track_running_stats=True)\n",
            "    (9): LeakyReLU(negative_slope=0.0001, inplace=True)\n",
            "    (10): ConvTranspose2d(16, 8, kernel_size=(3, 3), stride=(1, 1), bias=False)\n",
            "    (11): BatchNorm2d(8, eps=1e-05, momentum=0.1, affine=True, track_running_stats=True)\n",
            "    (12): LeakyReLU(negative_slope=0.0001, inplace=True)\n",
            "    (13): ConvTranspose2d(8, 1, kernel_size=(2, 2), stride=(1, 1), bias=False)\n",
            "    (14): Tanh()\n",
            "  )\n",
            "  (discriminator): Sequential(\n",
            "    (0): Conv2d(1, 8, kernel_size=(3, 3), stride=(2, 2), padding=(1, 1), bias=False)\n",
            "    (1): BatchNorm2d(8, eps=1e-05, momentum=0.1, affine=True, track_running_stats=True)\n",
            "    (2): LeakyReLU(negative_slope=0.0001, inplace=True)\n",
            "    (3): Conv2d(8, 32, kernel_size=(3, 3), stride=(2, 2), padding=(1, 1), bias=False)\n",
            "    (4): BatchNorm2d(32, eps=1e-05, momentum=0.1, affine=True, track_running_stats=True)\n",
            "    (5): LeakyReLU(negative_slope=0.0001, inplace=True)\n",
            "    (6): Flatten()\n",
            "    (7): Linear(in_features=1568, out_features=1, bias=True)\n",
            "  )\n",
            ")\n"
          ]
        }
      ],
      "source": [
        "device = torch.device(\"cuda\" if torch.cuda.is_available() else \"cpu\")\n",
        "\n",
        "model = GAN(model_args['latent_space_dim']).to(device)\n",
        "print(model)\n",
        "\n",
        "optimizer_gen = torch.optim.Adam(model.generator.parameters(), lr=model_args['lr'])\n",
        "optimizer_dis = torch.optim.Adam(model.discriminator.parameters(), lr=model_args['lr'])"
      ]
    },
    {
      "cell_type": "code",
      "execution_count": 8,
      "metadata": {
        "id": "iIY981F4Aj0O",
        "colab": {
          "base_uri": "https://localhost:8080/"
        },
        "outputId": "18b04646-a9f5-4621-f24a-a262cd8651a6"
      },
      "outputs": [
        {
          "output_type": "stream",
          "name": "stdout",
          "text": [
            "----------------------------------------------------------------\n",
            "        Layer (type)               Output Shape         Param #\n",
            "================================================================\n",
            "            Linear-1                 [-1, 3136]         313,600\n",
            "       BatchNorm1d-2                 [-1, 3136]           6,272\n",
            "         LeakyReLU-3                 [-1, 3136]               0\n",
            "           Reshape-4             [-1, 64, 7, 7]               0\n",
            "   ConvTranspose2d-5           [-1, 32, 13, 13]          18,432\n",
            "       BatchNorm2d-6           [-1, 32, 13, 13]              64\n",
            "         LeakyReLU-7           [-1, 32, 13, 13]               0\n",
            "   ConvTranspose2d-8           [-1, 16, 25, 25]           4,608\n",
            "       BatchNorm2d-9           [-1, 16, 25, 25]              32\n",
            "        LeakyReLU-10           [-1, 16, 25, 25]               0\n",
            "  ConvTranspose2d-11            [-1, 8, 27, 27]           1,152\n",
            "      BatchNorm2d-12            [-1, 8, 27, 27]              16\n",
            "        LeakyReLU-13            [-1, 8, 27, 27]               0\n",
            "  ConvTranspose2d-14            [-1, 1, 28, 28]              32\n",
            "             Tanh-15            [-1, 1, 28, 28]               0\n",
            "================================================================\n",
            "Total params: 344,208\n",
            "Trainable params: 344,208\n",
            "Non-trainable params: 0\n",
            "----------------------------------------------------------------\n",
            "Input size (MB): 0.00\n",
            "Forward/backward pass size (MB): 0.59\n",
            "Params size (MB): 1.31\n",
            "Estimated Total Size (MB): 1.91\n",
            "----------------------------------------------------------------\n",
            "----------------------------------------------------------------\n",
            "        Layer (type)               Output Shape         Param #\n",
            "================================================================\n",
            "            Conv2d-1            [-1, 8, 14, 14]              72\n",
            "       BatchNorm2d-2            [-1, 8, 14, 14]              16\n",
            "         LeakyReLU-3            [-1, 8, 14, 14]               0\n",
            "            Conv2d-4             [-1, 32, 7, 7]           2,304\n",
            "       BatchNorm2d-5             [-1, 32, 7, 7]              64\n",
            "         LeakyReLU-6             [-1, 32, 7, 7]               0\n",
            "           Flatten-7                 [-1, 1568]               0\n",
            "            Linear-8                    [-1, 1]           1,569\n",
            "================================================================\n",
            "Total params: 4,025\n",
            "Trainable params: 4,025\n",
            "Non-trainable params: 0\n",
            "----------------------------------------------------------------\n",
            "Input size (MB): 0.00\n",
            "Forward/backward pass size (MB): 0.08\n",
            "Params size (MB): 0.02\n",
            "Estimated Total Size (MB): 0.10\n",
            "----------------------------------------------------------------\n"
          ]
        }
      ],
      "source": [
        "from torchsummary import summary\n",
        "model = model.to(device)\n",
        "summary(model.generator, input_size=(100,))\n",
        "summary(model.discriminator, input_size=(1, 28, 28))"
      ]
    },
    {
      "cell_type": "markdown",
      "metadata": {
        "id": "IIq0T6d1c-by"
      },
      "source": [
        "Then train the model"
      ]
    },
    {
      "cell_type": "code",
      "execution_count": 12,
      "metadata": {
        "colab": {
          "base_uri": "https://localhost:8080/",
          "height": 1000
        },
        "id": "e47KfI8ddYx_",
        "outputId": "fef51cfa-4481-482c-ccf5-f94b50607bfa"
      },
      "outputs": [
        {
          "output_type": "stream",
          "name": "stdout",
          "text": [
            "Train Epoch 1 | Generator loss = 1.9426 | Discriminator loss = 0.1916\n",
            "Train Epoch 2 | Generator loss = 1.4060 | Discriminator loss = 0.3513\n",
            "Train Epoch 3 | Generator loss = 1.3090 | Discriminator loss = 0.3914\n",
            "Train Epoch 4 | Generator loss = 1.2998 | Discriminator loss = 0.4008\n",
            "Train Epoch 5 | Generator loss = 1.2033 | Discriminator loss = 0.4513\n",
            "Train Epoch 6 | Generator loss = 1.1926 | Discriminator loss = 0.4492\n",
            "Train Epoch 7 | Generator loss = 1.2000 | Discriminator loss = 0.4513\n",
            "Train Epoch 8 | Generator loss = 1.2080 | Discriminator loss = 0.4598\n",
            "Train Epoch 9 | Generator loss = 1.1894 | Discriminator loss = 0.4713\n",
            "Train Epoch 10 | Generator loss = 1.1708 | Discriminator loss = 0.4847\n",
            "Train Epoch 11 | Generator loss = 1.1477 | Discriminator loss = 0.4909\n",
            "Train Epoch 12 | Generator loss = 1.1393 | Discriminator loss = 0.4927\n",
            "Train Epoch 13 | Generator loss = 1.1215 | Discriminator loss = 0.5043\n",
            "Train Epoch 14 | Generator loss = 1.1077 | Discriminator loss = 0.5143\n",
            "Train Epoch 15 | Generator loss = 1.0891 | Discriminator loss = 0.5255\n",
            "Train Epoch 16 | Generator loss = 1.0707 | Discriminator loss = 0.5358\n",
            "Train Epoch 17 | Generator loss = 1.0566 | Discriminator loss = 0.5456\n",
            "Train Epoch 18 | Generator loss = 1.0396 | Discriminator loss = 0.5547\n",
            "Train Epoch 19 | Generator loss = 1.0221 | Discriminator loss = 0.5649\n",
            "Train Epoch 20 | Generator loss = 1.0035 | Discriminator loss = 0.5757\n",
            "Train Epoch 21 | Generator loss = 0.9828 | Discriminator loss = 0.5860\n",
            "Train Epoch 22 | Generator loss = 0.9648 | Discriminator loss = 0.5930\n",
            "Train Epoch 23 | Generator loss = 0.9530 | Discriminator loss = 0.5996\n",
            "Train Epoch 24 | Generator loss = 0.9400 | Discriminator loss = 0.6040\n",
            "Train Epoch 25 | Generator loss = 0.9321 | Discriminator loss = 0.6082\n",
            "Train Epoch 26 | Generator loss = 0.9188 | Discriminator loss = 0.6156\n",
            "Train Epoch 27 | Generator loss = 0.9089 | Discriminator loss = 0.6192\n",
            "Train Epoch 28 | Generator loss = 0.9078 | Discriminator loss = 0.6187\n",
            "Train Epoch 29 | Generator loss = 0.8961 | Discriminator loss = 0.6224\n",
            "Train Epoch 30 | Generator loss = 0.8838 | Discriminator loss = 0.6311\n",
            "Train Epoch 31 | Generator loss = 0.8772 | Discriminator loss = 0.6334\n",
            "Train Epoch 32 | Generator loss = 0.8673 | Discriminator loss = 0.6375\n",
            "Train Epoch 33 | Generator loss = 0.8589 | Discriminator loss = 0.6425\n",
            "Train Epoch 34 | Generator loss = 0.8473 | Discriminator loss = 0.6492\n",
            "Train Epoch 35 | Generator loss = 0.8359 | Discriminator loss = 0.6531\n",
            "Train Epoch 36 | Generator loss = 0.8343 | Discriminator loss = 0.6515\n",
            "Train Epoch 37 | Generator loss = 0.8280 | Discriminator loss = 0.6562\n",
            "Train Epoch 38 | Generator loss = 0.8194 | Discriminator loss = 0.6593\n",
            "Train Epoch 39 | Generator loss = 0.8224 | Discriminator loss = 0.6588\n",
            "Train Epoch 40 | Generator loss = 0.8233 | Discriminator loss = 0.6598\n",
            "Train Epoch 41 | Generator loss = 0.8055 | Discriminator loss = 0.6655\n",
            "Train Epoch 42 | Generator loss = 0.8038 | Discriminator loss = 0.6645\n",
            "Train Epoch 43 | Generator loss = 0.7965 | Discriminator loss = 0.6685\n",
            "Train Epoch 44 | Generator loss = 0.7968 | Discriminator loss = 0.6682\n",
            "Train Epoch 45 | Generator loss = 0.8003 | Discriminator loss = 0.6688\n",
            "Train Epoch 46 | Generator loss = 0.7949 | Discriminator loss = 0.6705\n",
            "Train Epoch 47 | Generator loss = 0.7820 | Discriminator loss = 0.6741\n",
            "Train Epoch 48 | Generator loss = 0.7798 | Discriminator loss = 0.6752\n",
            "Train Epoch 49 | Generator loss = 0.7868 | Discriminator loss = 0.6748\n",
            "Train Epoch 50 | Generator loss = 0.7739 | Discriminator loss = 0.6794\n"
          ]
        },
        {
          "output_type": "display_data",
          "data": {
            "text/plain": [
              "<Figure size 432x288 with 1 Axes>"
            ],
            "image/png": "[encoded data removed]"
          },
          "metadata": {
            "needs_background": "light"
          }
        }
      ],
      "source": [
        "torch.manual_seed(model_args['seed'])\n",
        "generator_loss = []\n",
        "discriminator_loss = []\n",
        "for epoch_number in range(1, model_args['epochs'] + 1):\n",
        "    gen_losses, dis_losses = train(model, device, train_loader, optimizer_gen, optimizer_dis, epoch_number)\n",
        "    print('Train Epoch {} | Generator loss = {:.4f} | Discriminator loss = {:.4f}'.format(\n",
        "        epoch_number, np.mean(gen_losses), np.mean(dis_losses)))\n",
        "    generator_loss.extend(gen_losses)\n",
        "    discriminator_loss.extend(dis_losses)\n",
        "\n",
        "plot_loss(generator_loss, discriminator_loss)"
      ]
    },
    {
      "cell_type": "markdown",
      "metadata": {
        "id": "UOMlPObQAwc0"
      },
      "source": [
        "Generate images"
      ]
    },
    {
      "cell_type": "code",
      "execution_count": null,
      "metadata": {
        "id": "agbLScusVOWi",
        "colab": {
          "base_uri": "https://localhost:8080/",
          "height": 513
        },
        "outputId": "c520e87f-2470-449d-b038-271fb847a235"
      },
      "outputs": [
        {
          "output_type": "display_data",
          "data": {
            "text/plain": [
              "<Figure size 504x504 with 25 Axes>"
            ],
            "image/png": "[encoded data removed]"
          },
          "metadata": {
            "needs_background": "light"
          }
        }
      ],
      "source": [
        "model.eval()\n",
        "\n",
        "z = torch.zeros((25, model_args['latent_space_dim'])).uniform_(-1.0, 1.0).to(device)\n",
        "generated_images = model.generator_forward(z)\n",
        "imgs = generated_images.view(-1, 28, 28)\n",
        "\n",
        "\n",
        "fig, axs = plt.subplots(5, 5, figsize=(7,7), tight_layout=True)\n",
        "for i in range(5):\n",
        "    for j in range(5):\n",
        "        axs[i,j].imshow(imgs[i*5+j].to(torch.device('cpu')).detach(), cmap='binary')"
      ]
    },
    {
      "cell_type": "markdown",
      "metadata": {
        "id": "mL2IBnmiZgr-"
      },
      "source": [
        "## Tasks to do\n",
        "* run the code, train GAN model and generate your own MNIST images\n",
        "* what if we increase/decrease the latent space size\n",
        "* what if we change the LeakyReLU units into standard ReLU\n",
        "* try the same with Fashion MNIST or other MNIST-like datasets, or with CIFAR (needs to change some input/output layers)"
      ]
    }
  ],
  "metadata": {
    "accelerator": "GPU",
    "colab": {
      "collapsed_sections": [],
      "name": "GAN_on_MNIST.ipynb",
      "provenance": [],
      "toc_visible": true,
      "authorship_tag": "ABX9TyP0P+lNKwhImEJ4Ka8fXd06",
      "include_colab_link": true
    },
    "kernelspec": {
      "display_name": "Python 3",
      "name": "python3"
    },
    "widgets": {
      "application/vnd.jupyter.widget-state+json": {
        "db45e7e6258644b8b7bca93c69830e0b": {
          "model_module": "@jupyter-widgets/controls",
          "model_name": "HBoxModel",
          "model_module_version": "1.5.0",
          "state": {
            "_dom_classes": [],
            "_model_module": "@jupyter-widgets/controls",
            "_model_module_version": "1.5.0",
            "_model_name": "HBoxModel",
            "_view_count": null,
            "_view_module": "@jupyter-widgets/controls",
            "_view_module_version": "1.5.0",
            "_view_name": "HBoxView",
            "box_style": "",
            "children": [
              "IPY_MODEL_a75d78004576433f80e52288b42d6b0d",
              "IPY_MODEL_29b8a21cc4ca498d94d4d23dc84e5dc8",
              "IPY_MODEL_a6704af3a28c4af5a43d0015611a8d56"
            ],
            "layout": "IPY_MODEL_ab5b8736cfbe48f8b8ebf8f0365379b2"
          }
        },
        "a75d78004576433f80e52288b42d6b0d": {
          "model_module": "@jupyter-widgets/controls",
          "model_name": "HTMLModel",
          "model_module_version": "1.5.0",
          "state": {
            "_dom_classes": [],
            "_model_module": "@jupyter-widgets/controls",
            "_model_module_version": "1.5.0",
            "_model_name": "HTMLModel",
            "_view_count": null,
            "_view_module": "@jupyter-widgets/controls",
            "_view_module_version": "1.5.0",
            "_view_name": "HTMLView",
            "description": "",
            "description_tooltip": null,
            "layout": "IPY_MODEL_9afc6ac40d994015a63fbccca35cae7e",
            "placeholder": "​",
            "style": "IPY_MODEL_929c56df0dd74dcdb4ca2495cbd2f193",
            "value": ""
          }
        },
        "29b8a21cc4ca498d94d4d23dc84e5dc8": {
          "model_module": "@jupyter-widgets/controls",
          "model_name": "FloatProgressModel",
          "model_module_version": "1.5.0",
          "state": {
            "_dom_classes": [],
            "_model_module": "@jupyter-widgets/controls",
            "_model_module_version": "1.5.0",
            "_model_name": "FloatProgressModel",
            "_view_count": null,
            "_view_module": "@jupyter-widgets/controls",
            "_view_module_version": "1.5.0",
            "_view_name": "ProgressView",
            "bar_style": "success",
            "description": "",
            "description_tooltip": null,
            "layout": "IPY_MODEL_bae931a0e90142d9a05a610ce12d21cc",
            "max": 9912422,
            "min": 0,
            "orientation": "horizontal",
            "style": "IPY_MODEL_fdcb99decb464df5a789c6c24820d433",
            "value": 9912422
          }
        },
        "a6704af3a28c4af5a43d0015611a8d56": {
          "model_module": "@jupyter-widgets/controls",
          "model_name": "HTMLModel",
          "model_module_version": "1.5.0",
          "state": {
            "_dom_classes": [],
            "_model_module": "@jupyter-widgets/controls",
            "_model_module_version": "1.5.0",
            "_model_name": "HTMLModel",
            "_view_count": null,
            "_view_module": "@jupyter-widgets/controls",
            "_view_module_version": "1.5.0",
            "_view_name": "HTMLView",
            "description": "",
            "description_tooltip": null,
            "layout": "IPY_MODEL_2f4107ba1a504605b8851c4b32484f4e",
            "placeholder": "​",
            "style": "IPY_MODEL_740a630a6584417a909162368470932f",
            "value": " 9913344/? [00:00&lt;00:00, 37685513.24it/s]"
          }
        },
        "ab5b8736cfbe48f8b8ebf8f0365379b2": {
          "model_module": "@jupyter-widgets/base",
          "model_name": "LayoutModel",
          "model_module_version": "1.2.0",
          "state": {
            "_model_module": "@jupyter-widgets/base",
            "_model_module_version": "1.2.0",
            "_model_name": "LayoutModel",
            "_view_count": null,
            "_view_module": "@jupyter-widgets/base",
            "_view_module_version": "1.2.0",
            "_view_name": "LayoutView",
            "align_content": null,
            "align_items": null,
            "align_self": null,
            "border": null,
            "bottom": null,
            "display": null,
            "flex": null,
            "flex_flow": null,
            "grid_area": null,
            "grid_auto_columns": null,
            "grid_auto_flow": null,
            "grid_auto_rows": null,
            "grid_column": null,
            "grid_gap": null,
            "grid_row": null,
            "grid_template_areas": null,
            "grid_template_columns": null,
            "grid_template_rows": null,
            "height": null,
            "justify_content": null,
            "justify_items": null,
            "left": null,
            "margin": null,
            "max_height": null,
            "max_width": null,
            "min_height": null,
            "min_width": null,
            "object_fit": null,
            "object_position": null,
            "order": null,
            "overflow": null,
            "overflow_x": null,
            "overflow_y": null,
            "padding": null,
            "right": null,
            "top": null,
            "visibility": null,
            "width": null
          }
        },
        "9afc6ac40d994015a63fbccca35cae7e": {
          "model_module": "@jupyter-widgets/base",
          "model_name": "LayoutModel",
          "model_module_version": "1.2.0",
          "state": {
            "_model_module": "@jupyter-widgets/base",
            "_model_module_version": "1.2.0",
            "_model_name": "LayoutModel",
            "_view_count": null,
            "_view_module": "@jupyter-widgets/base",
            "_view_module_version": "1.2.0",
            "_view_name": "LayoutView",
            "align_content": null,
            "align_items": null,
            "align_self": null,
            "border": null,
            "bottom": null,
            "display": null,
            "flex": null,
            "flex_flow": null,
            "grid_area": null,
            "grid_auto_columns": null,
            "grid_auto_flow": null,
            "grid_auto_rows": null,
            "grid_column": null,
            "grid_gap": null,
            "grid_row": null,
            "grid_template_areas": null,
            "grid_template_columns": null,
            "grid_template_rows": null,
            "height": null,
            "justify_content": null,
            "justify_items": null,
            "left": null,
            "margin": null,
            "max_height": null,
            "max_width": null,
            "min_height": null,
            "min_width": null,
            "object_fit": null,
            "object_position": null,
            "order": null,
            "overflow": null,
            "overflow_x": null,
            "overflow_y": null,
            "padding": null,
            "right": null,
            "top": null,
            "visibility": null,
            "width": null
          }
        },
        "929c56df0dd74dcdb4ca2495cbd2f193": {
          "model_module": "@jupyter-widgets/controls",
          "model_name": "DescriptionStyleModel",
          "model_module_version": "1.5.0",
          "state": {
            "_model_module": "@jupyter-widgets/controls",
            "_model_module_version": "1.5.0",
            "_model_name": "DescriptionStyleModel",
            "_view_count": null,
            "_view_module": "@jupyter-widgets/base",
            "_view_module_version": "1.2.0",
            "_view_name": "StyleView",
            "description_width": ""
          }
        },
        "bae931a0e90142d9a05a610ce12d21cc": {
          "model_module": "@jupyter-widgets/base",
          "model_name": "LayoutModel",
          "model_module_version": "1.2.0",
          "state": {
            "_model_module": "@jupyter-widgets/base",
            "_model_module_version": "1.2.0",
            "_model_name": "LayoutModel",
            "_view_count": null,
            "_view_module": "@jupyter-widgets/base",
            "_view_module_version": "1.2.0",
            "_view_name": "LayoutView",
            "align_content": null,
            "align_items": null,
            "align_self": null,
            "border": null,
            "bottom": null,
            "display": null,
            "flex": null,
            "flex_flow": null,
            "grid_area": null,
            "grid_auto_columns": null,
            "grid_auto_flow": null,
            "grid_auto_rows": null,
            "grid_column": null,
            "grid_gap": null,
            "grid_row": null,
            "grid_template_areas": null,
            "grid_template_columns": null,
            "grid_template_rows": null,
            "height": null,
            "justify_content": null,
            "justify_items": null,
            "left": null,
            "margin": null,
            "max_height": null,
            "max_width": null,
            "min_height": null,
            "min_width": null,
            "object_fit": null,
            "object_position": null,
            "order": null,
            "overflow": null,
            "overflow_x": null,
            "overflow_y": null,
            "padding": null,
            "right": null,
            "top": null,
            "visibility": null,
            "width": null
          }
        },
        "fdcb99decb464df5a789c6c24820d433": {
          "model_module": "@jupyter-widgets/controls",
          "model_name": "ProgressStyleModel",
          "model_module_version": "1.5.0",
          "state": {
            "_model_module": "@jupyter-widgets/controls",
            "_model_module_version": "1.5.0",
            "_model_name": "ProgressStyleModel",
            "_view_count": null,
            "_view_module": "@jupyter-widgets/base",
            "_view_module_version": "1.2.0",
            "_view_name": "StyleView",
            "bar_color": null,
            "description_width": ""
          }
        },
        "2f4107ba1a504605b8851c4b32484f4e": {
          "model_module": "@jupyter-widgets/base",
          "model_name": "LayoutModel",
          "model_module_version": "1.2.0",
          "state": {
            "_model_module": "@jupyter-widgets/base",
            "_model_module_version": "1.2.0",
            "_model_name": "LayoutModel",
            "_view_count": null,
            "_view_module": "@jupyter-widgets/base",
            "_view_module_version": "1.2.0",
            "_view_name": "LayoutView",
            "align_content": null,
            "align_items": null,
            "align_self": null,
            "border": null,
            "bottom": null,
            "display": null,
            "flex": null,
            "flex_flow": null,
            "grid_area": null,
            "grid_auto_columns": null,
            "grid_auto_flow": null,
            "grid_auto_rows": null,
            "grid_column": null,
            "grid_gap": null,
            "grid_row": null,
            "grid_template_areas": null,
            "grid_template_columns": null,
            "grid_template_rows": null,
            "height": null,
            "justify_content": null,
            "justify_items": null,
            "left": null,
            "margin": null,
            "max_height": null,
            "max_width": null,
            "min_height": null,
            "min_width": null,
            "object_fit": null,
            "object_position": null,
            "order": null,
            "overflow": null,
            "overflow_x": null,
            "overflow_y": null,
            "padding": null,
            "right": null,
            "top": null,
            "visibility": null,
            "width": null
          }
        },
        "740a630a6584417a909162368470932f": {
          "model_module": "@jupyter-widgets/controls",
          "model_name": "DescriptionStyleModel",
          "model_module_version": "1.5.0",
          "state": {
            "_model_module": "@jupyter-widgets/controls",
            "_model_module_version": "1.5.0",
            "_model_name": "DescriptionStyleModel",
            "_view_count": null,
            "_view_module": "@jupyter-widgets/base",
            "_view_module_version": "1.2.0",
            "_view_name": "StyleView",
            "description_width": ""
          }
        },
        "acb5af559b1a4df19d7ba831d531736a": {
          "model_module": "@jupyter-widgets/controls",
          "model_name": "HBoxModel",
          "model_module_version": "1.5.0",
          "state": {
            "_dom_classes": [],
            "_model_module": "@jupyter-widgets/controls",
            "_model_module_version": "1.5.0",
            "_model_name": "HBoxModel",
            "_view_count": null,
            "_view_module": "@jupyter-widgets/controls",
            "_view_module_version": "1.5.0",
            "_view_name": "HBoxView",
            "box_style": "",
            "children": [
              "IPY_MODEL_814ad91201c94b1c8fae8b49ea751841",
              "IPY_MODEL_b5aee52fcf764b29a425ea90ad64a74c",
              "IPY_MODEL_69584d6aa7034aa9b5dbfa7d58e24fd9"
            ],
            "layout": "IPY_MODEL_99aab35f6b8644d1a8460122006954c3"
          }
        },
        "814ad91201c94b1c8fae8b49ea751841": {
          "model_module": "@jupyter-widgets/controls",
          "model_name": "HTMLModel",
          "model_module_version": "1.5.0",
          "state": {
            "_dom_classes": [],
            "_model_module": "@jupyter-widgets/controls",
            "_model_module_version": "1.5.0",
            "_model_name": "HTMLModel",
            "_view_count": null,
            "_view_module": "@jupyter-widgets/controls",
            "_view_module_version": "1.5.0",
            "_view_name": "HTMLView",
            "description": "",
            "description_tooltip": null,
            "layout": "IPY_MODEL_667347df9efa484fbd386a67da9a7ca7",
            "placeholder": "​",
            "style": "IPY_MODEL_6b7d5a9438d34c61b60c63b859c06df1",
            "value": ""
          }
        },
        "b5aee52fcf764b29a425ea90ad64a74c": {
          "model_module": "@jupyter-widgets/controls",
          "model_name": "FloatProgressModel",
          "model_module_version": "1.5.0",
          "state": {
            "_dom_classes": [],
            "_model_module": "@jupyter-widgets/controls",
            "_model_module_version": "1.5.0",
            "_model_name": "FloatProgressModel",
            "_view_count": null,
            "_view_module": "@jupyter-widgets/controls",
            "_view_module_version": "1.5.0",
            "_view_name": "ProgressView",
            "bar_style": "success",
            "description": "",
            "description_tooltip": null,
            "layout": "IPY_MODEL_bd522b0d4d5a4e8880eebee99325f58d",
            "max": 28881,
            "min": 0,
            "orientation": "horizontal",
            "style": "IPY_MODEL_29d257e0aaf84bf1b55cbef111e45cec",
            "value": 28881
          }
        },
        "69584d6aa7034aa9b5dbfa7d58e24fd9": {
          "model_module": "@jupyter-widgets/controls",
          "model_name": "HTMLModel",
          "model_module_version": "1.5.0",
          "state": {
            "_dom_classes": [],
            "_model_module": "@jupyter-widgets/controls",
            "_model_module_version": "1.5.0",
            "_model_name": "HTMLModel",
            "_view_count": null,
            "_view_module": "@jupyter-widgets/controls",
            "_view_module_version": "1.5.0",
            "_view_name": "HTMLView",
            "description": "",
            "description_tooltip": null,
            "layout": "IPY_MODEL_a03a2416a66b47068cb4b4e7c17cb1ff",
            "placeholder": "​",
            "style": "IPY_MODEL_1b3c8813fa6f47e3b889e6a4e244a5ea",
            "value": " 29696/? [00:00&lt;00:00, 323431.33it/s]"
          }
        },
        "99aab35f6b8644d1a8460122006954c3": {
          "model_module": "@jupyter-widgets/base",
          "model_name": "LayoutModel",
          "model_module_version": "1.2.0",
          "state": {
            "_model_module": "@jupyter-widgets/base",
            "_model_module_version": "1.2.0",
            "_model_name": "LayoutModel",
            "_view_count": null,
            "_view_module": "@jupyter-widgets/base",
            "_view_module_version": "1.2.0",
            "_view_name": "LayoutView",
            "align_content": null,
            "align_items": null,
            "align_self": null,
            "border": null,
            "bottom": null,
            "display": null,
            "flex": null,
            "flex_flow": null,
            "grid_area": null,
            "grid_auto_columns": null,
            "grid_auto_flow": null,
            "grid_auto_rows": null,
            "grid_column": null,
            "grid_gap": null,
            "grid_row": null,
            "grid_template_areas": null,
            "grid_template_columns": null,
            "grid_template_rows": null,
            "height": null,
            "justify_content": null,
            "justify_items": null,
            "left": null,
            "margin": null,
            "max_height": null,
            "max_width": null,
            "min_height": null,
            "min_width": null,
            "object_fit": null,
            "object_position": null,
            "order": null,
            "overflow": null,
            "overflow_x": null,
            "overflow_y": null,
            "padding": null,
            "right": null,
            "top": null,
            "visibility": null,
            "width": null
          }
        },
        "667347df9efa484fbd386a67da9a7ca7": {
          "model_module": "@jupyter-widgets/base",
          "model_name": "LayoutModel",
          "model_module_version": "1.2.0",
          "state": {
            "_model_module": "@jupyter-widgets/base",
            "_model_module_version": "1.2.0",
            "_model_name": "LayoutModel",
            "_view_count": null,
            "_view_module": "@jupyter-widgets/base",
            "_view_module_version": "1.2.0",
            "_view_name": "LayoutView",
            "align_content": null,
            "align_items": null,
            "align_self": null,
            "border": null,
            "bottom": null,
            "display": null,
            "flex": null,
            "flex_flow": null,
            "grid_area": null,
            "grid_auto_columns": null,
            "grid_auto_flow": null,
            "grid_auto_rows": null,
            "grid_column": null,
            "grid_gap": null,
            "grid_row": null,
            "grid_template_areas": null,
            "grid_template_columns": null,
            "grid_template_rows": null,
            "height": null,
            "justify_content": null,
            "justify_items": null,
            "left": null,
            "margin": null,
            "max_height": null,
            "max_width": null,
            "min_height": null,
            "min_width": null,
            "object_fit": null,
            "object_position": null,
            "order": null,
            "overflow": null,
            "overflow_x": null,
            "overflow_y": null,
            "padding": null,
            "right": null,
            "top": null,
            "visibility": null,
            "width": null
          }
        },
        "6b7d5a9438d34c61b60c63b859c06df1": {
          "model_module": "@jupyter-widgets/controls",
          "model_name": "DescriptionStyleModel",
          "model_module_version": "1.5.0",
          "state": {
            "_model_module": "@jupyter-widgets/controls",
            "_model_module_version": "1.5.0",
            "_model_name": "DescriptionStyleModel",
            "_view_count": null,
            "_view_module": "@jupyter-widgets/base",
            "_view_module_version": "1.2.0",
            "_view_name": "StyleView",
            "description_width": ""
          }
        },
        "bd522b0d4d5a4e8880eebee99325f58d": {
          "model_module": "@jupyter-widgets/base",
          "model_name": "LayoutModel",
          "model_module_version": "1.2.0",
          "state": {
            "_model_module": "@jupyter-widgets/base",
            "_model_module_version": "1.2.0",
            "_model_name": "LayoutModel",
            "_view_count": null,
            "_view_module": "@jupyter-widgets/base",
            "_view_module_version": "1.2.0",
            "_view_name": "LayoutView",
            "align_content": null,
            "align_items": null,
            "align_self": null,
            "border": null,
            "bottom": null,
            "display": null,
            "flex": null,
            "flex_flow": null,
            "grid_area": null,
            "grid_auto_columns": null,
            "grid_auto_flow": null,
            "grid_auto_rows": null,
            "grid_column": null,
            "grid_gap": null,
            "grid_row": null,
            "grid_template_areas": null,
            "grid_template_columns": null,
            "grid_template_rows": null,
            "height": null,
            "justify_content": null,
            "justify_items": null,
            "left": null,
            "margin": null,
            "max_height": null,
            "max_width": null,
            "min_height": null,
            "min_width": null,
            "object_fit": null,
            "object_position": null,
            "order": null,
            "overflow": null,
            "overflow_x": null,
            "overflow_y": null,
            "padding": null,
            "right": null,
            "top": null,
            "visibility": null,
            "width": null
          }
        },
        "29d257e0aaf84bf1b55cbef111e45cec": {
          "model_module": "@jupyter-widgets/controls",
          "model_name": "ProgressStyleModel",
          "model_module_version": "1.5.0",
          "state": {
            "_model_module": "@jupyter-widgets/controls",
            "_model_module_version": "1.5.0",
            "_model_name": "ProgressStyleModel",
            "_view_count": null,
            "_view_module": "@jupyter-widgets/base",
            "_view_module_version": "1.2.0",
            "_view_name": "StyleView",
            "bar_color": null,
            "description_width": ""
          }
        },
        "a03a2416a66b47068cb4b4e7c17cb1ff": {
          "model_module": "@jupyter-widgets/base",
          "model_name": "LayoutModel",
          "model_module_version": "1.2.0",
          "state": {
            "_model_module": "@jupyter-widgets/base",
            "_model_module_version": "1.2.0",
            "_model_name": "LayoutModel",
            "_view_count": null,
            "_view_module": "@jupyter-widgets/base",
            "_view_module_version": "1.2.0",
            "_view_name": "LayoutView",
            "align_content": null,
            "align_items": null,
            "align_self": null,
            "border": null,
            "bottom": null,
            "display": null,
            "flex": null,
            "flex_flow": null,
            "grid_area": null,
            "grid_auto_columns": null,
            "grid_auto_flow": null,
            "grid_auto_rows": null,
            "grid_column": null,
            "grid_gap": null,
            "grid_row": null,
            "grid_template_areas": null,
            "grid_template_columns": null,
            "grid_template_rows": null,
            "height": null,
            "justify_content": null,
            "justify_items": null,
            "left": null,
            "margin": null,
            "max_height": null,
            "max_width": null,
            "min_height": null,
            "min_width": null,
            "object_fit": null,
            "object_position": null,
            "order": null,
            "overflow": null,
            "overflow_x": null,
            "overflow_y": null,
            "padding": null,
            "right": null,
            "top": null,
            "visibility": null,
            "width": null
          }
        },
        "1b3c8813fa6f47e3b889e6a4e244a5ea": {
          "model_module": "@jupyter-widgets/controls",
          "model_name": "DescriptionStyleModel",
          "model_module_version": "1.5.0",
          "state": {
            "_model_module": "@jupyter-widgets/controls",
            "_model_module_version": "1.5.0",
            "_model_name": "DescriptionStyleModel",
            "_view_count": null,
            "_view_module": "@jupyter-widgets/base",
            "_view_module_version": "1.2.0",
            "_view_name": "StyleView",
            "description_width": ""
          }
        },
        "d44a7ea9a3f342158ca4f530dd61bec4": {
          "model_module": "@jupyter-widgets/controls",
          "model_name": "HBoxModel",
          "model_module_version": "1.5.0",
          "state": {
            "_dom_classes": [],
            "_model_module": "@jupyter-widgets/controls",
            "_model_module_version": "1.5.0",
            "_model_name": "HBoxModel",
            "_view_count": null,
            "_view_module": "@jupyter-widgets/controls",
            "_view_module_version": "1.5.0",
            "_view_name": "HBoxView",
            "box_style": "",
            "children": [
              "IPY_MODEL_f77f570257a24de394094bc85c470b9a",
              "IPY_MODEL_87598b627fb2495597117a1c03046c90",
              "IPY_MODEL_b1296fd980b8437f9499c8cf27f3c0aa"
            ],
            "layout": "IPY_MODEL_bde325330d504db983adf4ec9f74cee6"
          }
        },
        "f77f570257a24de394094bc85c470b9a": {
          "model_module": "@jupyter-widgets/controls",
          "model_name": "HTMLModel",
          "model_module_version": "1.5.0",
          "state": {
            "_dom_classes": [],
            "_model_module": "@jupyter-widgets/controls",
            "_model_module_version": "1.5.0",
            "_model_name": "HTMLModel",
            "_view_count": null,
            "_view_module": "@jupyter-widgets/controls",
            "_view_module_version": "1.5.0",
            "_view_name": "HTMLView",
            "description": "",
            "description_tooltip": null,
            "layout": "IPY_MODEL_a1bb51e1236645238e62eddd566c2a3a",
            "placeholder": "​",
            "style": "IPY_MODEL_edabe39073b24db2bf7bd081a5bfa33d",
            "value": ""
          }
        },
        "87598b627fb2495597117a1c03046c90": {
          "model_module": "@jupyter-widgets/controls",
          "model_name": "FloatProgressModel",
          "model_module_version": "1.5.0",
          "state": {
            "_dom_classes": [],
            "_model_module": "@jupyter-widgets/controls",
            "_model_module_version": "1.5.0",
            "_model_name": "FloatProgressModel",
            "_view_count": null,
            "_view_module": "@jupyter-widgets/controls",
            "_view_module_version": "1.5.0",
            "_view_name": "ProgressView",
            "bar_style": "success",
            "description": "",
            "description_tooltip": null,
            "layout": "IPY_MODEL_d7bade77105f4903b338fb10954b5900",
            "max": 1648877,
            "min": 0,
            "orientation": "horizontal",
            "style": "IPY_MODEL_382a0e7129544c8eb01298112f0efd15",
            "value": 1648877
          }
        },
        "b1296fd980b8437f9499c8cf27f3c0aa": {
          "model_module": "@jupyter-widgets/controls",
          "model_name": "HTMLModel",
          "model_module_version": "1.5.0",
          "state": {
            "_dom_classes": [],
            "_model_module": "@jupyter-widgets/controls",
            "_model_module_version": "1.5.0",
            "_model_name": "HTMLModel",
            "_view_count": null,
            "_view_module": "@jupyter-widgets/controls",
            "_view_module_version": "1.5.0",
            "_view_name": "HTMLView",
            "description": "",
            "description_tooltip": null,
            "layout": "IPY_MODEL_64bb27c772c24efdb2a63405f5b23b17",
            "placeholder": "​",
            "style": "IPY_MODEL_ebf30e77f20f4fc7a24183df1a55bccf",
            "value": " 1649664/? [00:00&lt;00:00, 1509253.23it/s]"
          }
        },
        "bde325330d504db983adf4ec9f74cee6": {
          "model_module": "@jupyter-widgets/base",
          "model_name": "LayoutModel",
          "model_module_version": "1.2.0",
          "state": {
            "_model_module": "@jupyter-widgets/base",
            "_model_module_version": "1.2.0",
            "_model_name": "LayoutModel",
            "_view_count": null,
            "_view_module": "@jupyter-widgets/base",
            "_view_module_version": "1.2.0",
            "_view_name": "LayoutView",
            "align_content": null,
            "align_items": null,
            "align_self": null,
            "border": null,
            "bottom": null,
            "display": null,
            "flex": null,
            "flex_flow": null,
            "grid_area": null,
            "grid_auto_columns": null,
            "grid_auto_flow": null,
            "grid_auto_rows": null,
            "grid_column": null,
            "grid_gap": null,
            "grid_row": null,
            "grid_template_areas": null,
            "grid_template_columns": null,
            "grid_template_rows": null,
            "height": null,
            "justify_content": null,
            "justify_items": null,
            "left": null,
            "margin": null,
            "max_height": null,
            "max_width": null,
            "min_height": null,
            "min_width": null,
            "object_fit": null,
            "object_position": null,
            "order": null,
            "overflow": null,
            "overflow_x": null,
            "overflow_y": null,
            "padding": null,
            "right": null,
            "top": null,
            "visibility": null,
            "width": null
          }
        },
        "a1bb51e1236645238e62eddd566c2a3a": {
          "model_module": "@jupyter-widgets/base",
          "model_name": "LayoutModel",
          "model_module_version": "1.2.0",
          "state": {
            "_model_module": "@jupyter-widgets/base",
            "_model_module_version": "1.2.0",
            "_model_name": "LayoutModel",
            "_view_count": null,
            "_view_module": "@jupyter-widgets/base",
            "_view_module_version": "1.2.0",
            "_view_name": "LayoutView",
            "align_content": null,
            "align_items": null,
            "align_self": null,
            "border": null,
            "bottom": null,
            "display": null,
            "flex": null,
            "flex_flow": null,
            "grid_area": null,
            "grid_auto_columns": null,
            "grid_auto_flow": null,
            "grid_auto_rows": null,
            "grid_column": null,
            "grid_gap": null,
            "grid_row": null,
            "grid_template_areas": null,
            "grid_template_columns": null,
            "grid_template_rows": null,
            "height": null,
            "justify_content": null,
            "justify_items": null,
            "left": null,
            "margin": null,
            "max_height": null,
            "max_width": null,
            "min_height": null,
            "min_width": null,
            "object_fit": null,
            "object_position": null,
            "order": null,
            "overflow": null,
            "overflow_x": null,
            "overflow_y": null,
            "padding": null,
            "right": null,
            "top": null,
            "visibility": null,
            "width": null
          }
        },
        "edabe39073b24db2bf7bd081a5bfa33d": {
          "model_module": "@jupyter-widgets/controls",
          "model_name": "DescriptionStyleModel",
          "model_module_version": "1.5.0",
          "state": {
            "_model_module": "@jupyter-widgets/controls",
            "_model_module_version": "1.5.0",
            "_model_name": "DescriptionStyleModel",
            "_view_count": null,
            "_view_module": "@jupyter-widgets/base",
            "_view_module_version": "1.2.0",
            "_view_name": "StyleView",
            "description_width": ""
          }
        },
        "d7bade77105f4903b338fb10954b5900": {
          "model_module": "@jupyter-widgets/base",
          "model_name": "LayoutModel",
          "model_module_version": "1.2.0",
          "state": {
            "_model_module": "@jupyter-widgets/base",
            "_model_module_version": "1.2.0",
            "_model_name": "LayoutModel",
            "_view_count": null,
            "_view_module": "@jupyter-widgets/base",
            "_view_module_version": "1.2.0",
            "_view_name": "LayoutView",
            "align_content": null,
            "align_items": null,
            "align_self": null,
            "border": null,
            "bottom": null,
            "display": null,
            "flex": null,
            "flex_flow": null,
            "grid_area": null,
            "grid_auto_columns": null,
            "grid_auto_flow": null,
            "grid_auto_rows": null,
            "grid_column": null,
            "grid_gap": null,
            "grid_row": null,
            "grid_template_areas": null,
            "grid_template_columns": null,
            "grid_template_rows": null,
            "height": null,
            "justify_content": null,
            "justify_items": null,
            "left": null,
            "margin": null,
            "max_height": null,
            "max_width": null,
            "min_height": null,
            "min_width": null,
            "object_fit": null,
            "object_position": null,
            "order": null,
            "overflow": null,
            "overflow_x": null,
            "overflow_y": null,
            "padding": null,
            "right": null,
            "top": null,
            "visibility": null,
            "width": null
          }
        },
        "382a0e7129544c8eb01298112f0efd15": {
          "model_module": "@jupyter-widgets/controls",
          "model_name": "ProgressStyleModel",
          "model_module_version": "1.5.0",
          "state": {
            "_model_module": "@jupyter-widgets/controls",
            "_model_module_version": "1.5.0",
            "_model_name": "ProgressStyleModel",
            "_view_count": null,
            "_view_module": "@jupyter-widgets/base",
            "_view_module_version": "1.2.0",
            "_view_name": "StyleView",
            "bar_color": null,
            "description_width": ""
          }
        },
        "64bb27c772c24efdb2a63405f5b23b17": {
          "model_module": "@jupyter-widgets/base",
          "model_name": "LayoutModel",
          "model_module_version": "1.2.0",
          "state": {
            "_model_module": "@jupyter-widgets/base",
            "_model_module_version": "1.2.0",
            "_model_name": "LayoutModel",
            "_view_count": null,
            "_view_module": "@jupyter-widgets/base",
            "_view_module_version": "1.2.0",
            "_view_name": "LayoutView",
            "align_content": null,
            "align_items": null,
            "align_self": null,
            "border": null,
            "bottom": null,
            "display": null,
            "flex": null,
            "flex_flow": null,
            "grid_area": null,
            "grid_auto_columns": null,
            "grid_auto_flow": null,
            "grid_auto_rows": null,
            "grid_column": null,
            "grid_gap": null,
            "grid_row": null,
            "grid_template_areas": null,
            "grid_template_columns": null,
            "grid_template_rows": null,
            "height": null,
            "justify_content": null,
            "justify_items": null,
            "left": null,
            "margin": null,
            "max_height": null,
            "max_width": null,
            "min_height": null,
            "min_width": null,
            "object_fit": null,
            "object_position": null,
            "order": null,
            "overflow": null,
            "overflow_x": null,
            "overflow_y": null,
            "padding": null,
            "right": null,
            "top": null,
            "visibility": null,
            "width": null
          }
        },
        "ebf30e77f20f4fc7a24183df1a55bccf": {
          "model_module": "@jupyter-widgets/controls",
          "model_name": "DescriptionStyleModel",
          "model_module_version": "1.5.0",
          "state": {
            "_model_module": "@jupyter-widgets/controls",
            "_model_module_version": "1.5.0",
            "_model_name": "DescriptionStyleModel",
            "_view_count": null,
            "_view_module": "@jupyter-widgets/base",
            "_view_module_version": "1.2.0",
            "_view_name": "StyleView",
            "description_width": ""
          }
        },
        "6f117b04a12e4bbd832dc75245b8f36f": {
          "model_module": "@jupyter-widgets/controls",
          "model_name": "HBoxModel",
          "model_module_version": "1.5.0",
          "state": {
            "_dom_classes": [],
            "_model_module": "@jupyter-widgets/controls",
            "_model_module_version": "1.5.0",
            "_model_name": "HBoxModel",
            "_view_count": null,
            "_view_module": "@jupyter-widgets/controls",
            "_view_module_version": "1.5.0",
            "_view_name": "HBoxView",
            "box_style": "",
            "children": [
              "IPY_MODEL_4dd2b99c4c644effa1d5454770b5165e",
              "IPY_MODEL_c11b7f2bc99842fcb87e7ee4fc18baf7",
              "IPY_MODEL_55230bff97594ca7a0a71378d7553221"
            ],
            "layout": "IPY_MODEL_36a7c4e4a03e44f8b8df34aeb0c0d074"
          }
        },
        "4dd2b99c4c644effa1d5454770b5165e": {
          "model_module": "@jupyter-widgets/controls",
          "model_name": "HTMLModel",
          "model_module_version": "1.5.0",
          "state": {
            "_dom_classes": [],
            "_model_module": "@jupyter-widgets/controls",
            "_model_module_version": "1.5.0",
            "_model_name": "HTMLModel",
            "_view_count": null,
            "_view_module": "@jupyter-widgets/controls",
            "_view_module_version": "1.5.0",
            "_view_name": "HTMLView",
            "description": "",
            "description_tooltip": null,
            "layout": "IPY_MODEL_95193f3b2a004ca889aa4c0b0e43db2f",
            "placeholder": "​",
            "style": "IPY_MODEL_e79bb2d4a1ac481c82465c86588fcbee",
            "value": ""
          }
        },
        "c11b7f2bc99842fcb87e7ee4fc18baf7": {
          "model_module": "@jupyter-widgets/controls",
          "model_name": "FloatProgressModel",
          "model_module_version": "1.5.0",
          "state": {
            "_dom_classes": [],
            "_model_module": "@jupyter-widgets/controls",
            "_model_module_version": "1.5.0",
            "_model_name": "FloatProgressModel",
            "_view_count": null,
            "_view_module": "@jupyter-widgets/controls",
            "_view_module_version": "1.5.0",
            "_view_name": "ProgressView",
            "bar_style": "success",
            "description": "",
            "description_tooltip": null,
            "layout": "IPY_MODEL_df88941ae6c446e89aa4ae539c740052",
            "max": 4542,
            "min": 0,
            "orientation": "horizontal",
            "style": "IPY_MODEL_a49d516f731642fdbe38b152d3d32f7e",
            "value": 4542
          }
        },
        "55230bff97594ca7a0a71378d7553221": {
          "model_module": "@jupyter-widgets/controls",
          "model_name": "HTMLModel",
          "model_module_version": "1.5.0",
          "state": {
            "_dom_classes": [],
            "_model_module": "@jupyter-widgets/controls",
            "_model_module_version": "1.5.0",
            "_model_name": "HTMLModel",
            "_view_count": null,
            "_view_module": "@jupyter-widgets/controls",
            "_view_module_version": "1.5.0",
            "_view_name": "HTMLView",
            "description": "",
            "description_tooltip": null,
            "layout": "IPY_MODEL_5e5bb51830eb4978a3ef5223e8f18943",
            "placeholder": "​",
            "style": "IPY_MODEL_2d250bc485ff4ed98b211c2000e5cede",
            "value": " 5120/? [00:00&lt;00:00, 8305.89it/s]"
          }
        },
        "36a7c4e4a03e44f8b8df34aeb0c0d074": {
          "model_module": "@jupyter-widgets/base",
          "model_name": "LayoutModel",
          "model_module_version": "1.2.0",
          "state": {
            "_model_module": "@jupyter-widgets/base",
            "_model_module_version": "1.2.0",
            "_model_name": "LayoutModel",
            "_view_count": null,
            "_view_module": "@jupyter-widgets/base",
            "_view_module_version": "1.2.0",
            "_view_name": "LayoutView",
            "align_content": null,
            "align_items": null,
            "align_self": null,
            "border": null,
            "bottom": null,
            "display": null,
            "flex": null,
            "flex_flow": null,
            "grid_area": null,
            "grid_auto_columns": null,
            "grid_auto_flow": null,
            "grid_auto_rows": null,
            "grid_column": null,
            "grid_gap": null,
            "grid_row": null,
            "grid_template_areas": null,
            "grid_template_columns": null,
            "grid_template_rows": null,
            "height": null,
            "justify_content": null,
            "justify_items": null,
            "left": null,
            "margin": null,
            "max_height": null,
            "max_width": null,
            "min_height": null,
            "min_width": null,
            "object_fit": null,
            "object_position": null,
            "order": null,
            "overflow": null,
            "overflow_x": null,
            "overflow_y": null,
            "padding": null,
            "right": null,
            "top": null,
            "visibility": null,
            "width": null
          }
        },
        "95193f3b2a004ca889aa4c0b0e43db2f": {
          "model_module": "@jupyter-widgets/base",
          "model_name": "LayoutModel",
          "model_module_version": "1.2.0",
          "state": {
            "_model_module": "@jupyter-widgets/base",
            "_model_module_version": "1.2.0",
            "_model_name": "LayoutModel",
            "_view_count": null,
            "_view_module": "@jupyter-widgets/base",
            "_view_module_version": "1.2.0",
            "_view_name": "LayoutView",
            "align_content": null,
            "align_items": null,
            "align_self": null,
            "border": null,
            "bottom": null,
            "display": null,
            "flex": null,
            "flex_flow": null,
            "grid_area": null,
            "grid_auto_columns": null,
            "grid_auto_flow": null,
            "grid_auto_rows": null,
            "grid_column": null,
            "grid_gap": null,
            "grid_row": null,
            "grid_template_areas": null,
            "grid_template_columns": null,
            "grid_template_rows": null,
            "height": null,
            "justify_content": null,
            "justify_items": null,
            "left": null,
            "margin": null,
            "max_height": null,
            "max_width": null,
            "min_height": null,
            "min_width": null,
            "object_fit": null,
            "object_position": null,
            "order": null,
            "overflow": null,
            "overflow_x": null,
            "overflow_y": null,
            "padding": null,
            "right": null,
            "top": null,
            "visibility": null,
            "width": null
          }
        },
        "e79bb2d4a1ac481c82465c86588fcbee": {
          "model_module": "@jupyter-widgets/controls",
          "model_name": "DescriptionStyleModel",
          "model_module_version": "1.5.0",
          "state": {
            "_model_module": "@jupyter-widgets/controls",
            "_model_module_version": "1.5.0",
            "_model_name": "DescriptionStyleModel",
            "_view_count": null,
            "_view_module": "@jupyter-widgets/base",
            "_view_module_version": "1.2.0",
            "_view_name": "StyleView",
            "description_width": ""
          }
        },
        "df88941ae6c446e89aa4ae539c740052": {
          "model_module": "@jupyter-widgets/base",
          "model_name": "LayoutModel",
          "model_module_version": "1.2.0",
          "state": {
            "_model_module": "@jupyter-widgets/base",
            "_model_module_version": "1.2.0",
            "_model_name": "LayoutModel",
            "_view_count": null,
            "_view_module": "@jupyter-widgets/base",
            "_view_module_version": "1.2.0",
            "_view_name": "LayoutView",
            "align_content": null,
            "align_items": null,
            "align_self": null,
            "border": null,
            "bottom": null,
            "display": null,
            "flex": null,
            "flex_flow": null,
            "grid_area": null,
            "grid_auto_columns": null,
            "grid_auto_flow": null,
            "grid_auto_rows": null,
            "grid_column": null,
            "grid_gap": null,
            "grid_row": null,
            "grid_template_areas": null,
            "grid_template_columns": null,
            "grid_template_rows": null,
            "height": null,
            "justify_content": null,
            "justify_items": null,
            "left": null,
            "margin": null,
            "max_height": null,
            "max_width": null,
            "min_height": null,
            "min_width": null,
            "object_fit": null,
            "object_position": null,
            "order": null,
            "overflow": null,
            "overflow_x": null,
            "overflow_y": null,
            "padding": null,
            "right": null,
            "top": null,
            "visibility": null,
            "width": null
          }
        },
        "a49d516f731642fdbe38b152d3d32f7e": {
          "model_module": "@jupyter-widgets/controls",
          "model_name": "ProgressStyleModel",
          "model_module_version": "1.5.0",
          "state": {
            "_model_module": "@jupyter-widgets/controls",
            "_model_module_version": "1.5.0",
            "_model_name": "ProgressStyleModel",
            "_view_count": null,
            "_view_module": "@jupyter-widgets/base",
            "_view_module_version": "1.2.0",
            "_view_name": "StyleView",
            "bar_color": null,
            "description_width": ""
          }
        },
        "5e5bb51830eb4978a3ef5223e8f18943": {
          "model_module": "@jupyter-widgets/base",
          "model_name": "LayoutModel",
          "model_module_version": "1.2.0",
          "state": {
            "_model_module": "@jupyter-widgets/base",
            "_model_module_version": "1.2.0",
            "_model_name": "LayoutModel",
            "_view_count": null,
            "_view_module": "@jupyter-widgets/base",
            "_view_module_version": "1.2.0",
            "_view_name": "LayoutView",
            "align_content": null,
            "align_items": null,
            "align_self": null,
            "border": null,
            "bottom": null,
            "display": null,
            "flex": null,
            "flex_flow": null,
            "grid_area": null,
            "grid_auto_columns": null,
            "grid_auto_flow": null,
            "grid_auto_rows": null,
            "grid_column": null,
            "grid_gap": null,
            "grid_row": null,
            "grid_template_areas": null,
            "grid_template_columns": null,
            "grid_template_rows": null,
            "height": null,
            "justify_content": null,
            "justify_items": null,
            "left": null,
            "margin": null,
            "max_height": null,
            "max_width": null,
            "min_height": null,
            "min_width": null,
            "object_fit": null,
            "object_position": null,
            "order": null,
            "overflow": null,
            "overflow_x": null,
            "overflow_y": null,
            "padding": null,
            "right": null,
            "top": null,
            "visibility": null,
            "width": null
          }
        },
        "2d250bc485ff4ed98b211c2000e5cede": {
          "model_module": "@jupyter-widgets/controls",
          "model_name": "DescriptionStyleModel",
          "model_module_version": "1.5.0",
          "state": {
            "_model_module": "@jupyter-widgets/controls",
            "_model_module_version": "1.5.0",
            "_model_name": "DescriptionStyleModel",
            "_view_count": null,
            "_view_module": "@jupyter-widgets/base",
            "_view_module_version": "1.2.0",
            "_view_name": "StyleView",
            "description_width": ""
          }
        }
      }
    }
  },
  "nbformat": 4,
  "nbformat_minor": 0
}